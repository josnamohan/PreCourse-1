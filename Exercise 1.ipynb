{
 "cells": [
  {
   "cell_type": "code",
   "execution_count": 16,
   "id": "99774871",
   "metadata": {},
   "outputs": [],
   "source": [
    "#Implement a stack using array"
   ]
  },
  {
   "cell_type": "code",
   "execution_count": 22,
   "id": "f25972de",
   "metadata": {},
   "outputs": [
    {
     "name": "stdout",
     "output_type": "stream",
     "text": [
      "Input the no of elements you want to enter into the stack : 4\n",
      "Enter the stack element value :1\n",
      "Enter the stack element value :2\n",
      "Enter the stack element value :3\n",
      "Enter the stack element value :4\n",
      "\n",
      "\n",
      "The stack elements are printed as below\n",
      "['1', '2', '3', '4']\n",
      "\n",
      "\n",
      "Popping elements from the stack by LIFO order : \n",
      "4\n",
      "3\n",
      "2\n",
      "1\n"
     ]
    }
   ],
   "source": [
    "stack_arr = []\n",
    "i = 1\n",
    "num = int(input(\"Input the no of elements you want to enter into the stack : \"))\n",
    "\n",
    "while i<=num:\n",
    "    element = input(\"Enter the stack element value :\")\n",
    "    stack_arr.append(element)\n",
    "    i=i+1\n",
    "\n",
    "print('\\n')\n",
    "print(\"The stack elements are printed as below\")\n",
    "\n",
    "print(stack_arr)\n",
    "print('\\n')\n",
    "\n",
    "print(\"Popping elements from the stack by LIFO order : \")\n",
    "\n",
    "while len(stack_arr):\n",
    "    popped_element = stack_arr.pop()\n",
    "    print(popped_element)\n",
    "    "
   ]
  },
  {
   "cell_type": "code",
   "execution_count": null,
   "id": "9b9e8b9a",
   "metadata": {},
   "outputs": [],
   "source": []
  },
  {
   "cell_type": "code",
   "execution_count": null,
   "id": "1450e40f",
   "metadata": {},
   "outputs": [],
   "source": []
  }
 ],
 "metadata": {
  "kernelspec": {
   "display_name": "Python 3 (ipykernel)",
   "language": "python",
   "name": "python3"
  },
  "language_info": {
   "codemirror_mode": {
    "name": "ipython",
    "version": 3
   },
   "file_extension": ".py",
   "mimetype": "text/x-python",
   "name": "python",
   "nbconvert_exporter": "python",
   "pygments_lexer": "ipython3",
   "version": "3.9.7"
  }
 },
 "nbformat": 4,
 "nbformat_minor": 5
}
